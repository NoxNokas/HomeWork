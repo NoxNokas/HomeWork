{
 "cells": [
  {
   "cell_type": "code",
   "execution_count": null,
   "metadata": {},
   "outputs": [],
   "source": [
    "from __future__ import division, print_function\n",
    "\n",
    "# отключим всякие предупреждения Anaconda\n",
    "import warnings\n",
    "import os\n",
    "\n",
    "warnings.filterwarnings(\"ignore\")\n",
    "import numpy as np\n",
    "import pandas as pd\n",
    "import pylab as plt\n",
    "\n",
    "%matplotlib inline\n",
    "import seaborn as sns\n",
    "from matplotlib import pyplot as plt\n",
    "\n",
    "plt.rcParams[\"figure.figsize\"] = (6, 4)"
   ]
  },
  {
   "cell_type": "markdown",
   "metadata": {},
   "source": [
    "**Скачиваем нужные csv-файлы с github**\n",
    "\n",
    "Набор данных взят с сайта: \n",
    "https://www.kaggle.com/uciml/breast-cancer-wisconsin-data\n",
    "\n",
    "Набор данных взят с сайта: \n",
    "https://www.kaggle.com/quantbruce/real-estate-price-prediction"
   ]
  },
  {
   "cell_type": "code",
   "execution_count": null,
   "metadata": {},
   "outputs": [],
   "source": [
    "if not os.path.exists('../data'): os.mkdir(\"../data\")\n",
    "\n",
    "!curl -o ../data/tr.csv https://raw.githubusercontent.com/NoxNokas/HomeWork/main/data/tr.csv\n",
    "\n",
    "!curl -o ../data/RealEstate.csv https://raw.githubusercontent.com/NoxNokas/HomeWork/main/data/RealEstate.csv"
   ]
  },
  {
   "cell_type": "markdown",
   "metadata": {},
   "source": [
    "# Классификация"
   ]
  },
  {
   "cell_type": "markdown",
   "metadata": {},
   "source": [
    "## Предобработка и визуализация данных"
   ]
  },
  {
   "cell_type": "code",
   "execution_count": null,
   "metadata": {},
   "outputs": [],
   "source": [
    "from sklearn.neighbors import KNeighborsClassifier, KNeighborsRegressor\n",
    "from sklearn.linear_model import LogisticRegression, LinearRegression\n",
    "from sklearn.pipeline import Pipeline, make_pipeline\n",
    "from sklearn.preprocessing import StandardScaler\n",
    "from sklearn.model_selection import GridSearchCV, cross_val_score\n",
    "from sklearn import metrics, svm\n",
    "from sklearn.model_selection import (\n",
    "    GridSearchCV,\n",
    "    StratifiedKFold,\n",
    "    KFold,\n",
    "    cross_val_predict,\n",
    "    cross_val_score,\n",
    "    train_test_split,\n",
    ")"
   ]
  },
  {
   "cell_type": "code",
   "execution_count": null,
   "metadata": {},
   "outputs": [],
   "source": [
    "df = pd.read_csv(\"../data/tr.csv\", names=[\"id\", \"diagnosis\", \"radius_mean\", \"texture_mean\", \"perimeter_mean\", \"area_mean\",\n",
    "                                      \"smoothness_mean\", \"compactness_mean\", \"concavity_mean\", \"concave points_mean\",\n",
    "                                      \"symmetry_mean\", \"fractal_dimension_mean\", \"radius_se\", \"texture_se\",\n",
    "                                      \"perimeter_se\", \"area_se\", \"smoothness_se\", \"compactness_se\", \"concavity_se\",\n",
    "                                      \"concave points_se\", \"symmetry_se\", \"fractal_dimension_se\", \"radius_worst\",\n",
    "                                      \"texture_worst\", \"perimeter_worst\", \"area_worst\", \"smoothness_worst\",\n",
    "                                      \"compactness_worst\", \"concavity_worst\", \"concave points_worst\", \"symmetry_worst\",\n",
    "                                      \"fractal_dimension_worst\"]).dropna()"
   ]
  },
  {
   "cell_type": "code",
   "execution_count": null,
   "metadata": {},
   "outputs": [],
   "source": [
    "pd.concat([df.head(), df.tail()])"
   ]
  },
  {
   "cell_type": "markdown",
   "metadata": {},
   "source": [
    "Информация об атрибутах:\n",
    "\n",
    "1) Идентификационный номер\n",
    "\n",
    "2) Диагноз (M = злокачественный, B = доброкачественный)\n",
    "\n",
    "Для каждого ядра клетки вычисляются десять действительных признаков (в 3-32 столбцах):\n",
    "\n",
    "* a) радиус (среднее расстояние от центра до точек по периметру)\n",
    "* b) текстура (стандартное отклонение значений шкалы серого)\n",
    "* c) периметр\n",
    "* d) площадь\n",
    "* e) гладкость (локальное изменение длины радиуса)\n",
    "* f) компактность (периметр ^ 2 / площадь - 1,0)\n",
    "* g) вогнутость (степень вогнутости частей контура)\n",
    "* h ) вогнутые точки (количество вогнутых участков контура)\n",
    "* i) симметрия\n",
    "* j) фрактальная размерность («приближение береговой линии» - 1)"
   ]
  },
  {
   "cell_type": "code",
   "execution_count": null,
   "metadata": {},
   "outputs": [],
   "source": [
    "df.info()"
   ]
  },
  {
   "cell_type": "code",
   "execution_count": null,
   "metadata": {},
   "outputs": [],
   "source": [
    "sns.pairplot(df.loc[:,'diagnosis':'area_mean'], hue=\"diagnosis\");"
   ]
  },
  {
   "cell_type": "markdown",
   "metadata": {},
   "source": [
    "Видим, что целевой параметр в выборке распределён неравномерно"
   ]
  },
  {
   "cell_type": "code",
   "execution_count": null,
   "metadata": {},
   "outputs": [],
   "source": [
    "sns.countplot(df[\"diagnosis\"]);"
   ]
  },
  {
   "cell_type": "code",
   "execution_count": null,
   "metadata": {},
   "outputs": [],
   "source": [
    "Y = df['diagnosis'].map({'M': 1, 'B': 0})\n",
    "X = df.drop(['diagnosis', 'id'], axis=1)"
   ]
  },
  {
   "cell_type": "code",
   "execution_count": null,
   "metadata": {},
   "outputs": [],
   "source": [
    "#correlation map\n",
    "f,ax = plt.subplots(figsize=(18, 18))\n",
    "sns.heatmap(X.corr(), annot=True, cmap=\"RdYlGn\", linewidths=.5, fmt= '.1f',ax=ax);"
   ]
  },
  {
   "cell_type": "markdown",
   "metadata": {},
   "source": [
    "Видим, что radius_mean и perimeter_mean имеют идеальную корреляцию, и это не удивительно, т.к. с помощью радиуса вычисляется периметр. Найдём и уберём некоторые избыточные параметры."
   ]
  },
  {
   "cell_type": "code",
   "execution_count": null,
   "metadata": {
    "scrolled": true
   },
   "outputs": [],
   "source": [
    "X = X.drop([\"radius_mean\", \"perimeter_mean\", \"area_mean\", \"radius_se\"], axis=1)"
   ]
  },
  {
   "cell_type": "code",
   "execution_count": null,
   "metadata": {},
   "outputs": [],
   "source": [
    "f,ax = plt.subplots(figsize=(18, 18))\n",
    "sns.heatmap(X.corr(), annot=True, cmap=\"RdYlGn\", linewidths=.5, fmt= '.1f',ax=ax);"
   ]
  },
  {
   "cell_type": "markdown",
   "metadata": {},
   "source": [
    "Выделим 80% выборки (X_train, y_train) под обучение и 20% будут отложенной выборкой (X_test, y_test). отложенная выборка никак не будет участвовать в настройке параметров моделей, на ней мы в конце, после этой настройки, оценим качество полученной модели."
   ]
  },
  {
   "cell_type": "code",
   "execution_count": null,
   "metadata": {},
   "outputs": [],
   "source": [
    "X_train, X_test, y_train, y_test = train_test_split(X, Y, test_size=0.2, random_state=7)"
   ]
  },
  {
   "cell_type": "markdown",
   "metadata": {},
   "source": [
    "Создаем и обучаем классификатор:\n",
    "Основные параметры класса sklearn.neighbors.KNeighborsClassifier:\n",
    "\n",
    "\n",
    "* weights: \"uniform\" (все веса равны), \"distance\" (вес обратно пропорционален расстоянию до тестового примера) или другая определенная пользователем функция \n",
    "\n",
    "* algorithm (опционально): \"brute\", \"ball_tree\", \"KD_tree\", или \"auto\". В первом случае ближайшие соседи для каждого тестового примера считаются перебором обучающей выборки. Во втором и третьем — расстояние между примерами хранятся в дереве, что ускоряет нахождение ближайших соседей. В случае указания параметра \"auto\" подходящий способ нахождения соседей будет выбран автоматически на основе обучающей выборки.\n",
    "\n",
    "* leaf_size (опционально): порог переключения на полный перебор в случае выбора BallTree или KDTree для \n",
    "нахождения соседей\n",
    "\n",
    "* metric: \"minkowski\", \"manhattan\", \"euclidean\", \"chebyshev\" и другие"
   ]
  },
  {
   "cell_type": "markdown",
   "metadata": {},
   "source": [
    "## kNN"
   ]
  },
  {
   "cell_type": "code",
   "execution_count": null,
   "metadata": {},
   "outputs": [],
   "source": [
    "knn_model = KNeighborsClassifier(\n",
    "   n_neighbors=10, \n",
    "   weights='distance',\n",
    "   algorithm='auto',\n",
    "   leaf_size=30,\n",
    "   metric='euclidean',\n",
    "   metric_params=None,\n",
    "   n_jobs=-1\n",
    ")"
   ]
  },
  {
   "cell_type": "code",
   "execution_count": null,
   "metadata": {},
   "outputs": [],
   "source": [
    "knn_model.fit(X_train, y_train)"
   ]
  },
  {
   "cell_type": "code",
   "execution_count": null,
   "metadata": {},
   "outputs": [],
   "source": [
    "knn_pred = knn_model.predict(X_test)\n",
    "print(\"Evaluation\\t\\t\\tlabels 'M': 1, 'B': 0: \\n\\n\", metrics.classification_report(y_test, knn_pred))"
   ]
  },
  {
   "cell_type": "markdown",
   "metadata": {},
   "source": [
    "Используем скользящий контроль для поиска лучших параметров (англ. cross validation):"
   ]
  },
  {
   "cell_type": "code",
   "execution_count": null,
   "metadata": {},
   "outputs": [],
   "source": [
    "model_params = knn_model.get_params()\n",
    "tuned_params = {}\n",
    "for k, v in model_params.items():\n",
    "    tuned_params[k] = [v]\n",
    "tuned_params['n_neighbors'] = list(range(1, 30))\n",
    "clf = GridSearchCV(KNeighborsClassifier(), tuned_params, cv=10, n_jobs=-1)\n",
    "clf.fit(X_train, y_train)\n",
    "best_params = clf.best_params_"
   ]
  },
  {
   "cell_type": "markdown",
   "metadata": {},
   "source": [
    "Оценка классификатора:"
   ]
  },
  {
   "cell_type": "code",
   "execution_count": null,
   "metadata": {},
   "outputs": [],
   "source": [
    "knn_model = KNeighborsClassifier(**best_params)\n",
    "knn_model.fit(X_train, y_train)\n",
    "prediction1 = knn_model.predict(X_test)"
   ]
  },
  {
   "cell_type": "code",
   "execution_count": null,
   "metadata": {},
   "outputs": [],
   "source": [
    "print('Used params:', best_params)\n",
    "print(\"\\nEvaluation\\t\\t\\tlabels 'M': 1, 'B': 0: \\n\\n\", metrics.classification_report(y_test, prediction1))"
   ]
  },
  {
   "cell_type": "markdown",
   "metadata": {},
   "source": [
    "## Логистическая регрессия как линейный классификатор"
   ]
  },
  {
   "cell_type": "code",
   "execution_count": null,
   "metadata": {},
   "outputs": [],
   "source": [
    "model = LogisticRegression()\n",
    "model.fit(X_train, y_train)\n",
    "prediction2 = model.predict(X_test)\n",
    "print(\"The Logistic Regression is\\n\\n\", metrics.classification_report(prediction2, y_test))"
   ]
  },
  {
   "cell_type": "markdown",
   "metadata": {},
   "source": [
    "## SVM"
   ]
  },
  {
   "cell_type": "code",
   "execution_count": null,
   "metadata": {},
   "outputs": [],
   "source": [
    "X_train, X_test, y_train, y_test\n",
    "model = svm.SVC(kernel=\"linear\", C=0.1, gamma=0.1)\n",
    "model.fit(X_train, y_train)\n",
    "prediction3 = model.predict(X_test)\n",
    "print(\"The linear SVM is\\n\\n\", metrics.classification_report(prediction3, y_test))"
   ]
  },
  {
   "cell_type": "markdown",
   "metadata": {},
   "source": [
    "## Cross Validation"
   ]
  },
  {
   "cell_type": "markdown",
   "metadata": {},
   "source": [
    "Мы должны обучить и протестировать наш алгоритм на каждом экземпляре набора данных. Затем мы можем взять среднее значение всех отмеченных погрешностей по набору данных.\n",
    "\n",
    "Перекрестная проверка K-Fold разделяет набор данных на k-подмножества.\n",
    "\n",
    "Допустим, мы делим набор данных на (k = 5) частей. Мы оставляем 1 часть для тестирования и обучаем алгоритм по оставшимся 4 частям.\n",
    "\n",
    "Мы продолжаем процесс, меняя часть данных для тестирования на каждой итерации и обучая алгоритм по другим частям. Затем точность и ошибки усредняются, чтобы получить среднюю точность алгоритма.\n",
    "Это называется перекрестной проверкой K-Fold.\n",
    "\n",
    "Алгоритм может недообучаться на некоторых обучающих данных, а иногда переобучаться для другого обучающего набора. Таким образом, с помощью перекрестной проверки мы можем получить обобщенную модель."
   ]
  },
  {
   "cell_type": "code",
   "execution_count": null,
   "metadata": {},
   "outputs": [],
   "source": [
    "kfold = KFold(n_splits=10, random_state=22, shuffle=True)\n",
    "\n",
    "classifiers = [\n",
    "    \"Linear Svm\",\n",
    "    \"Logistic Regression\",\n",
    "    \"KNN\"\n",
    "]\n",
    "models = [\n",
    "    svm.SVC(kernel=\"linear\"),\n",
    "    LogisticRegression(),\n",
    "    KNeighborsClassifier(n_neighbors=9)\n",
    "]\n",
    "\n",
    "accuracy = []\n",
    "for model in models:\n",
    "    cv_result = cross_val_score(model, X, Y, cv=kfold, scoring=\"accuracy\")\n",
    "    accuracy.append(cv_result)\n",
    "\n",
    "means = [cv_res.mean() for cv_res in accuracy]\n",
    "stds = [cv_res.std() for cv_res in accuracy]\n",
    "\n",
    "results_table = pd.DataFrame({\"CV Mean\": means, \"Std\": stds}, index=classifiers)\n",
    "results_table.sort_values(\"CV Mean\", ascending=False)"
   ]
  },
  {
   "cell_type": "markdown",
   "metadata": {},
   "source": [
    "## Confusion Matrix"
   ]
  },
  {
   "cell_type": "code",
   "execution_count": null,
   "metadata": {},
   "outputs": [],
   "source": [
    "f, ax = plt.subplots(1, 3, figsize=(15, 4))\n",
    "\n",
    "y_pred = cross_val_predict(svm.SVC(kernel=\"linear\"), X, Y, cv=10)\n",
    "sns.heatmap(metrics.confusion_matrix(Y, y_pred), ax=ax[0], annot=True, fmt=\"2.0f\")\n",
    "ax[0].set_title(\"Matrix for Linear-SVM\")\n",
    "\n",
    "y_pred = cross_val_predict(KNeighborsClassifier(n_neighbors=9), X, Y, cv=10)\n",
    "sns.heatmap(metrics.confusion_matrix(Y, y_pred), ax=ax[1], annot=True, fmt=\"2.0f\")\n",
    "ax[1].set_title(\"Matrix for KNN\")\n",
    "\n",
    "\n",
    "y_pred = cross_val_predict(LogisticRegression(), X, Y, cv=10)\n",
    "sns.heatmap(metrics.confusion_matrix(Y, y_pred), ax=ax[2], annot=True, fmt=\"2.0f\")\n",
    "ax[2].set_title(\"Matrix for Logistic Regression\");"
   ]
  },
  {
   "cell_type": "markdown",
   "metadata": {},
   "source": [
    "Главная диагональ показывает количество правильных прогнозов, сделанных для каждого класса, а правая диагональ показывает количество сделанных неверных прогнозов."
   ]
  },
  {
   "cell_type": "markdown",
   "metadata": {},
   "source": [
    "# Регрессия"
   ]
  },
  {
   "cell_type": "code",
   "execution_count": null,
   "metadata": {},
   "outputs": [],
   "source": [
    "# импортируем библиотеки\n",
    "from sklearn.ensemble import RandomForestRegressor\n",
    "from sklearn.neighbors import KNeighborsRegressor\n",
    "from sklearn.linear_model import LinearRegression, Lasso, Ridge\n",
    "from sklearn.linear_model import LassoCV, RidgeCV # Cross Validation специальная для гребневой регуляризации и Лассо\n",
    "from sklearn.preprocessing import StandardScaler\n",
    "from sklearn.metrics import mean_squared_error"
   ]
  },
  {
   "cell_type": "markdown",
   "metadata": {},
   "source": [
    "## Предобработка и визуализация данных "
   ]
  },
  {
   "cell_type": "code",
   "execution_count": null,
   "metadata": {},
   "outputs": [],
   "source": [
    "df = pd.read_csv(\"../data/RealEstate.csv\")\n",
    "pd.concat([df.head(), df.tail()])"
   ]
  },
  {
   "cell_type": "markdown",
   "metadata": {},
   "source": [
    "Описание параметров: Прогноз цен на недвижимость \n",
    "\n",
    "parameter | description \n",
    "--- | --- \n",
    "X1 | Дата транзакции.\n",
    "X2 | Возраст дома.\n",
    "X3 | Расстояние до ближайшей станции MRT.\n",
    "X4 | Общее количество круглосуточных магазинов.\n",
    "X5 | Широта.\n",
    "X6 | Долгота.\n",
    "**Y**  | Цена дома.\n",
    "\n",
    "**Y** - это выход и, следовательно, зависимая переменная."
   ]
  },
  {
   "cell_type": "code",
   "execution_count": null,
   "metadata": {},
   "outputs": [],
   "source": [
    "df.info()"
   ]
  },
  {
   "cell_type": "code",
   "execution_count": null,
   "metadata": {},
   "outputs": [],
   "source": [
    "# Проверяем корреляцию\n",
    "df.corr()"
   ]
  },
  {
   "cell_type": "code",
   "execution_count": null,
   "metadata": {},
   "outputs": [],
   "source": [
    "# Проверка на количество Null в столбцах\n",
    "df.isnull().sum()"
   ]
  },
  {
   "cell_type": "code",
   "execution_count": null,
   "metadata": {},
   "outputs": [],
   "source": [
    "# Удаляем столбцы с номером и датой транзакции\n",
    "df.drop([\"X1 transaction date\", \"No\"], axis=1, inplace= True)"
   ]
  },
  {
   "cell_type": "code",
   "execution_count": null,
   "metadata": {},
   "outputs": [],
   "source": [
    "sns.pairplot(df);"
   ]
  },
  {
   "cell_type": "code",
   "execution_count": null,
   "metadata": {},
   "outputs": [],
   "source": [
    "# визуализирует корреляцию с помощью heatmap \n",
    "f,ax = plt.subplots(figsize=(8, 8))\n",
    "sns.heatmap(df.corr(), annot=True, cmap=\"RdYlGn\", linewidths=.5, fmt= '.1f',ax=ax);"
   ]
  },
  {
   "cell_type": "code",
   "execution_count": null,
   "metadata": {},
   "outputs": [],
   "source": [
    "# Визуализация результата набора данных обучения\n",
    "sns.regplot(x=\"X2 house age\", y=\"Y house price of unit area\", data=df);"
   ]
  },
  {
   "cell_type": "code",
   "execution_count": null,
   "metadata": {
    "scrolled": true
   },
   "outputs": [],
   "source": [
    "sns.regplot(y=\"X3 distance to the nearest MRT station\", x=\"Y house price of unit area\", data=df);"
   ]
  },
  {
   "cell_type": "code",
   "execution_count": null,
   "metadata": {},
   "outputs": [],
   "source": [
    "# Делим параметры на зависимые (y) и независимые (X)\n",
    "X = df.loc[:,'X2 house age' : 'X6 longitude']\n",
    "y = df.loc[:,'Y house price of unit area']"
   ]
  },
  {
   "cell_type": "code",
   "execution_count": null,
   "metadata": {},
   "outputs": [],
   "source": [
    "# Разделяем выборку на обучающую и тестовую\n",
    "X_train, X_test, y_train, y_test = train_test_split(X,y, test_size = 0.3,random_state = 0)"
   ]
  },
  {
   "cell_type": "code",
   "execution_count": null,
   "metadata": {},
   "outputs": [],
   "source": []
  },
  {
   "cell_type": "markdown",
   "metadata": {},
   "source": [
    "## Регрессия на основе k-ближайших соседей."
   ]
  },
  {
   "cell_type": "code",
   "execution_count": null,
   "metadata": {},
   "outputs": [],
   "source": [
    "knn_model = KNeighborsRegressor(n_neighbors=5)\n",
    "knn_model.fit(X_train, y_train)"
   ]
  },
  {
   "cell_type": "code",
   "execution_count": null,
   "metadata": {},
   "outputs": [],
   "source": [
    "print(\"MSE=%f\" % np.sqrt(metrics.mean_squared_error(y_test, knn_model.predict(X_test))))"
   ]
  },
  {
   "cell_type": "markdown",
   "metadata": {},
   "source": [
    "## Линейная регрессия"
   ]
  },
  {
   "cell_type": "code",
   "execution_count": null,
   "metadata": {},
   "outputs": [],
   "source": [
    "# Обучаем модель\n",
    "reg = LinearRegression()\n",
    "reg.fit(X_train, y_train)"
   ]
  },
  {
   "cell_type": "code",
   "execution_count": null,
   "metadata": {},
   "outputs": [],
   "source": [
    "# Коэффициенты регрессии \n",
    "pd.DataFrame(reg.coef_, index=X.columns, columns=['coef']).sort_values(by=['coef'], ascending= False)"
   ]
  },
  {
   "cell_type": "code",
   "execution_count": null,
   "metadata": {},
   "outputs": [],
   "source": [
    "print(\"MSE=%f\" % np.sqrt(metrics.mean_squared_error(y_test, reg.predict(X_test))))"
   ]
  },
  {
   "cell_type": "code",
   "execution_count": null,
   "metadata": {},
   "outputs": [],
   "source": [
    "# График прогнозов реальной цены и предсказанной\n",
    "plt.scatter(y_test, reg.predict(X_test), color='cornflowerblue')\n",
    "plt.plot([y_test.min(), y_test.max()], [y_test.min(), y_test.max()], 'k--', lw=4)\n",
    "plt.xlabel('Real Price')\n",
    "plt.ylabel('Predicted')\n",
    "plt.title('Прогнозирование линейной регрессии');"
   ]
  },
  {
   "cell_type": "markdown",
   "metadata": {},
   "source": [
    "## SVR. Регрессия опорных векторов"
   ]
  },
  {
   "cell_type": "code",
   "execution_count": null,
   "metadata": {},
   "outputs": [],
   "source": [
    "svr_model = make_pipeline(StandardScaler(), svm.SVR(C=2.5, epsilon=0.2))\n",
    "svr_model.fit(X_train, y_train)"
   ]
  },
  {
   "cell_type": "code",
   "execution_count": null,
   "metadata": {},
   "outputs": [],
   "source": [
    "print(\"MSE=%f\" % np.sqrt(metrics.mean_squared_error(y_test, svr_model.predict(X_test))))"
   ]
  },
  {
   "cell_type": "code",
   "execution_count": null,
   "metadata": {},
   "outputs": [],
   "source": [
    "# График прогнозов реальной цены и предсказанной\n",
    "plt.scatter(y_test, svr_model.predict(X_test), color='cornflowerblue')\n",
    "plt.plot([y_test.min(), y_test.max()], [y_test.min(), y_test.max()], 'k--', lw=4)\n",
    "plt.xlabel('Real Price')\n",
    "plt.ylabel('Predicted')\n",
    "plt.title('Прогнозирование линейной регрессии с помощью SVR');"
   ]
  },
  {
   "cell_type": "code",
   "execution_count": null,
   "metadata": {},
   "outputs": [],
   "source": []
  }
 ],
 "metadata": {
  "kernelspec": {
   "display_name": "Python 3",
   "language": "python",
   "name": "python3"
  },
  "language_info": {
   "codemirror_mode": {
    "name": "ipython",
    "version": 3
   },
   "file_extension": ".py",
   "mimetype": "text/x-python",
   "name": "python",
   "nbconvert_exporter": "python",
   "pygments_lexer": "ipython3",
   "version": "3.8.3"
  }
 },
 "nbformat": 4,
 "nbformat_minor": 4
}
